{
 "cells": [
  {
   "cell_type": "markdown",
   "metadata": {},
   "source": [
    "# Code Challenge Review \n",
    "\n",
    "This notebook has tasks that will help data science students prepare for their Mod 2 code challenge.\n",
    "\n",
    "The first activity we will do is to get in groups and try to tackle the following tasks:\n",
    "\n"
   ]
  },
  {
   "cell_type": "code",
   "execution_count": 1,
   "metadata": {},
   "outputs": [],
   "source": [
    "import numpy as np"
   ]
  },
  {
   "cell_type": "code",
   "execution_count": 2,
   "metadata": {},
   "outputs": [],
   "source": [
    "daves_data = np.array([35.73,29.63,35.84,37.21,31.49,31.71,41.16,35.63,39.9,38.6,28.65,29.38,38.9,37.67,31.66,29.09,35.48,33.64,31.13,30.87,33.55,24.09,39.32,37.96,25.79])"
   ]
  },
  {
   "cell_type": "code",
   "execution_count": null,
   "metadata": {},
   "outputs": [],
   "source": []
  },
  {
   "cell_type": "code",
   "execution_count": 4,
   "metadata": {},
   "outputs": [],
   "source": [
    "daves_friends_data = np.array([22.8,22.05,20.33,28.42,27.21,20.29,18.22,24.87,22.18,21.2,23.23,13.52,24.1,32.6,16.73,22.38,23.83,26.71,23.03,22.28,34.07,18.65,28.39,25.21,17.93])"
   ]
  },
  {
   "cell_type": "code",
   "execution_count": null,
   "metadata": {},
   "outputs": [],
   "source": []
  },
  {
   "cell_type": "code",
   "execution_count": null,
   "metadata": {},
   "outputs": [],
   "source": []
  }
 ],
 "metadata": {
  "kernelspec": {
   "display_name": "Python 3",
   "language": "python",
   "name": "python3"
  },
  "language_info": {
   "codemirror_mode": {
    "name": "ipython",
    "version": 3
   },
   "file_extension": ".py",
   "mimetype": "text/x-python",
   "name": "python",
   "nbconvert_exporter": "python",
   "pygments_lexer": "ipython3",
   "version": "3.7.3"
  }
 },
 "nbformat": 4,
 "nbformat_minor": 2
}
